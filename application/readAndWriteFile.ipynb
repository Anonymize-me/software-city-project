{
 "cells": [
  {
   "cell_type": "code",
   "execution_count": 26,
   "id": "initial_id",
   "metadata": {
    "collapsed": true,
    "ExecuteTime": {
     "end_time": "2024-03-26T11:00:38.780632Z",
     "start_time": "2024-03-26T11:00:38.774577Z"
    }
   },
   "outputs": [],
   "source": [
    "import pandas as pd"
   ]
  },
  {
   "cell_type": "code",
   "execution_count": 27,
   "outputs": [],
   "source": [
    "file = '/Users/jonaslanzlinger/Documents/HSG/Software City Project/datasets/Exp202310.fixation_data_all.csv'"
   ],
   "metadata": {
    "collapsed": false,
    "ExecuteTime": {
     "end_time": "2024-03-26T11:00:39.214840Z",
     "start_time": "2024-03-26T11:00:39.207661Z"
    }
   },
   "id": "55be3e491352c744"
  },
  {
   "cell_type": "code",
   "execution_count": 28,
   "outputs": [],
   "source": [
    "df = pd.read_csv(file)"
   ],
   "metadata": {
    "collapsed": false,
    "ExecuteTime": {
     "end_time": "2024-03-26T11:00:40.365481Z",
     "start_time": "2024-03-26T11:00:39.629209Z"
    }
   },
   "id": "15820ffee8d0228d"
  },
  {
   "cell_type": "code",
   "execution_count": 29,
   "outputs": [
    {
     "data": {
      "text/plain": "(182232, 71)"
     },
     "execution_count": 29,
     "metadata": {},
     "output_type": "execute_result"
    }
   ],
   "source": [
    "df.shape"
   ],
   "metadata": {
    "collapsed": false,
    "ExecuteTime": {
     "end_time": "2024-03-26T11:00:46.412867Z",
     "start_time": "2024-03-26T11:00:46.401289Z"
    }
   },
   "id": "47ec5f3c68363b3e"
  },
  {
   "cell_type": "code",
   "execution_count": 30,
   "outputs": [
    {
     "data": {
      "text/plain": "   Unnamed: 0.1  participant   FixID  Fixation X  Fixation Y  Fixation Start  \\\n0             0           22  1279.0     750.293     76.7142    3.204741e+06   \n1             1           22     NaN         NaN         NaN             NaN   \n2             2           22  1280.0     788.720     62.2500    3.205049e+06   \n3             3           22     NaN         NaN         NaN             NaN   \n4             4           22     NaN         NaN         NaN             NaN   \n\n   Fixation End  Fixation Duration  Fixation Dispersion   SacID  ...  \\\n0   3205040.969           299.9755               0.2926     NaN  ...   \n1           NaN                NaN                  NaN  2339.0  ...   \n2   3205257.574           208.2985               0.2009     NaN  ...   \n3           NaN                NaN                  NaN  2340.0  ...   \n4           NaN                NaN                  NaN  2341.0  ...   \n\n   StrategyChangedReason  StrategySecond  StrategySecondOther  Familiarized  \\\n0                    1.0             3.0                 -1.0           1.0   \n1                    1.0             3.0                 -1.0           1.0   \n2                    1.0             3.0                 -1.0           1.0   \n3                    1.0             3.0                 -1.0           1.0   \n4                    1.0             3.0                 -1.0           1.0   \n\n   Continue  ProgKnownLanguageProcedural  ProgKnownLanguageLogic  \\\n0       1.0                          1.0                     0.0   \n1       1.0                          1.0                     0.0   \n2       1.0                          1.0                     0.0   \n3       1.0                          1.0                     0.0   \n4       1.0                          1.0                     0.0   \n\n   ProgKnownLanguageOO  ProgKnownLanguageVisual ProgKnownLanguageFunctional  \n0                  1.0                      0.0                         0.0  \n1                  1.0                      0.0                         0.0  \n2                  1.0                      0.0                         0.0  \n3                  1.0                      0.0                         0.0  \n4                  1.0                      0.0                         0.0  \n\n[5 rows x 71 columns]",
      "text/html": "<div>\n<style scoped>\n    .dataframe tbody tr th:only-of-type {\n        vertical-align: middle;\n    }\n\n    .dataframe tbody tr th {\n        vertical-align: top;\n    }\n\n    .dataframe thead th {\n        text-align: right;\n    }\n</style>\n<table border=\"1\" class=\"dataframe\">\n  <thead>\n    <tr style=\"text-align: right;\">\n      <th></th>\n      <th>Unnamed: 0.1</th>\n      <th>participant</th>\n      <th>FixID</th>\n      <th>Fixation X</th>\n      <th>Fixation Y</th>\n      <th>Fixation Start</th>\n      <th>Fixation End</th>\n      <th>Fixation Duration</th>\n      <th>Fixation Dispersion</th>\n      <th>SacID</th>\n      <th>...</th>\n      <th>StrategyChangedReason</th>\n      <th>StrategySecond</th>\n      <th>StrategySecondOther</th>\n      <th>Familiarized</th>\n      <th>Continue</th>\n      <th>ProgKnownLanguageProcedural</th>\n      <th>ProgKnownLanguageLogic</th>\n      <th>ProgKnownLanguageOO</th>\n      <th>ProgKnownLanguageVisual</th>\n      <th>ProgKnownLanguageFunctional</th>\n    </tr>\n  </thead>\n  <tbody>\n    <tr>\n      <th>0</th>\n      <td>0</td>\n      <td>22</td>\n      <td>1279.0</td>\n      <td>750.293</td>\n      <td>76.7142</td>\n      <td>3.204741e+06</td>\n      <td>3205040.969</td>\n      <td>299.9755</td>\n      <td>0.2926</td>\n      <td>NaN</td>\n      <td>...</td>\n      <td>1.0</td>\n      <td>3.0</td>\n      <td>-1.0</td>\n      <td>1.0</td>\n      <td>1.0</td>\n      <td>1.0</td>\n      <td>0.0</td>\n      <td>1.0</td>\n      <td>0.0</td>\n      <td>0.0</td>\n    </tr>\n    <tr>\n      <th>1</th>\n      <td>1</td>\n      <td>22</td>\n      <td>NaN</td>\n      <td>NaN</td>\n      <td>NaN</td>\n      <td>NaN</td>\n      <td>NaN</td>\n      <td>NaN</td>\n      <td>NaN</td>\n      <td>2339.0</td>\n      <td>...</td>\n      <td>1.0</td>\n      <td>3.0</td>\n      <td>-1.0</td>\n      <td>1.0</td>\n      <td>1.0</td>\n      <td>1.0</td>\n      <td>0.0</td>\n      <td>1.0</td>\n      <td>0.0</td>\n      <td>0.0</td>\n    </tr>\n    <tr>\n      <th>2</th>\n      <td>2</td>\n      <td>22</td>\n      <td>1280.0</td>\n      <td>788.720</td>\n      <td>62.2500</td>\n      <td>3.205049e+06</td>\n      <td>3205257.574</td>\n      <td>208.2985</td>\n      <td>0.2009</td>\n      <td>NaN</td>\n      <td>...</td>\n      <td>1.0</td>\n      <td>3.0</td>\n      <td>-1.0</td>\n      <td>1.0</td>\n      <td>1.0</td>\n      <td>1.0</td>\n      <td>0.0</td>\n      <td>1.0</td>\n      <td>0.0</td>\n      <td>0.0</td>\n    </tr>\n    <tr>\n      <th>3</th>\n      <td>3</td>\n      <td>22</td>\n      <td>NaN</td>\n      <td>NaN</td>\n      <td>NaN</td>\n      <td>NaN</td>\n      <td>NaN</td>\n      <td>NaN</td>\n      <td>NaN</td>\n      <td>2340.0</td>\n      <td>...</td>\n      <td>1.0</td>\n      <td>3.0</td>\n      <td>-1.0</td>\n      <td>1.0</td>\n      <td>1.0</td>\n      <td>1.0</td>\n      <td>0.0</td>\n      <td>1.0</td>\n      <td>0.0</td>\n      <td>0.0</td>\n    </tr>\n    <tr>\n      <th>4</th>\n      <td>4</td>\n      <td>22</td>\n      <td>NaN</td>\n      <td>NaN</td>\n      <td>NaN</td>\n      <td>NaN</td>\n      <td>NaN</td>\n      <td>NaN</td>\n      <td>NaN</td>\n      <td>2341.0</td>\n      <td>...</td>\n      <td>1.0</td>\n      <td>3.0</td>\n      <td>-1.0</td>\n      <td>1.0</td>\n      <td>1.0</td>\n      <td>1.0</td>\n      <td>0.0</td>\n      <td>1.0</td>\n      <td>0.0</td>\n      <td>0.0</td>\n    </tr>\n  </tbody>\n</table>\n<p>5 rows × 71 columns</p>\n</div>"
     },
     "execution_count": 30,
     "metadata": {},
     "output_type": "execute_result"
    }
   ],
   "source": [
    "df.head(5)"
   ],
   "metadata": {
    "collapsed": false,
    "ExecuteTime": {
     "end_time": "2024-03-26T11:00:49.356194Z",
     "start_time": "2024-03-26T11:00:49.338901Z"
    }
   },
   "id": "440879618871c1a7"
  },
  {
   "cell_type": "code",
   "execution_count": 31,
   "outputs": [],
   "source": [
    "selected_columns = ['participant', 'Fixation Start', 'Fixation End', 'Fixation Duration', 'tabName_element', 'Timestamp', 'tabName', 'element', 'TaskId']\n",
    "cleaned_df = df[selected_columns].copy()"
   ],
   "metadata": {
    "collapsed": false,
    "ExecuteTime": {
     "end_time": "2024-03-26T11:00:56.693005Z",
     "start_time": "2024-03-26T11:00:56.672302Z"
    }
   },
   "id": "8e9a79e3fb6931e8"
  },
  {
   "cell_type": "code",
   "execution_count": 32,
   "outputs": [],
   "source": [
    "filtered_df = cleaned_df[cleaned_df['participant'].isin([1, 2, 3])]"
   ],
   "metadata": {
    "collapsed": false,
    "ExecuteTime": {
     "end_time": "2024-03-26T11:01:02.081798Z",
     "start_time": "2024-03-26T11:01:02.070211Z"
    }
   },
   "id": "cb844ef7bf947dd6"
  },
  {
   "cell_type": "code",
   "execution_count": 33,
   "outputs": [
    {
     "data": {
      "text/plain": "        participant  Fixation Start  Fixation End  Fixation Duration  \\\n70979             2    2.418212e+06  2.419095e+06           883.2240   \n70980             2             NaN           NaN                NaN   \n70981             2    2.419170e+06  2.419312e+06           141.6510   \n70982             2             NaN           NaN                NaN   \n70983             2    2.419354e+06  2.419495e+06           141.6480   \n...             ...             ...           ...                ...   \n177955            3             NaN           NaN                NaN   \n177956            3             NaN           NaN                NaN   \n177957            3    3.081271e+06  3.081388e+06           116.6780   \n177958            3             NaN           NaN                NaN   \n177959            3    3.081413e+06  3.081755e+06           341.6285   \n\n                                       tabName_element    Timestamp  \\\n70979   model-g3.bpmn;next-button-area-in-questionID_9  2418832.957   \n70980                    model-g3.bpmn;Process_1vj4efq  2419099.595   \n70981                   model-g3.bpmn;Activity_09ohgt5  2419174.617   \n70982                   model-g3.bpmn;Activity_09ohgt5  2419316.268   \n70983             model-g3.bpmn;title-for-questionID_9  2419357.902   \n...                                                ...          ...   \n177955                               model-g3.bpmn;nan  3081225.494   \n177956                               model-g3.bpmn;nan  3081258.822   \n177957  model-g3.bpmn;next-button-area-in-questionID_9  3081275.489   \n177958  model-g3.bpmn;next-button-area-in-questionID_9  3081400.500   \n177959  model-g3.bpmn;next-button-area-in-questionID_9  3081417.149   \n\n              tabName                           element  TaskId  \n70979   model-g3.bpmn  next-button-area-in-questionID_9     5.0  \n70980   model-g3.bpmn                   Process_1vj4efq     5.0  \n70981   model-g3.bpmn                  Activity_09ohgt5     5.0  \n70982   model-g3.bpmn                  Activity_09ohgt5     5.0  \n70983   model-g3.bpmn            title-for-questionID_9     5.0  \n...               ...                               ...     ...  \n177955  model-g3.bpmn                               NaN     5.0  \n177956  model-g3.bpmn                               NaN     5.0  \n177957  model-g3.bpmn  next-button-area-in-questionID_9     5.0  \n177958  model-g3.bpmn  next-button-area-in-questionID_9     5.0  \n177959  model-g3.bpmn  next-button-area-in-questionID_9     5.0  \n\n[17077 rows x 9 columns]",
      "text/html": "<div>\n<style scoped>\n    .dataframe tbody tr th:only-of-type {\n        vertical-align: middle;\n    }\n\n    .dataframe tbody tr th {\n        vertical-align: top;\n    }\n\n    .dataframe thead th {\n        text-align: right;\n    }\n</style>\n<table border=\"1\" class=\"dataframe\">\n  <thead>\n    <tr style=\"text-align: right;\">\n      <th></th>\n      <th>participant</th>\n      <th>Fixation Start</th>\n      <th>Fixation End</th>\n      <th>Fixation Duration</th>\n      <th>tabName_element</th>\n      <th>Timestamp</th>\n      <th>tabName</th>\n      <th>element</th>\n      <th>TaskId</th>\n    </tr>\n  </thead>\n  <tbody>\n    <tr>\n      <th>70979</th>\n      <td>2</td>\n      <td>2.418212e+06</td>\n      <td>2.419095e+06</td>\n      <td>883.2240</td>\n      <td>model-g3.bpmn;next-button-area-in-questionID_9</td>\n      <td>2418832.957</td>\n      <td>model-g3.bpmn</td>\n      <td>next-button-area-in-questionID_9</td>\n      <td>5.0</td>\n    </tr>\n    <tr>\n      <th>70980</th>\n      <td>2</td>\n      <td>NaN</td>\n      <td>NaN</td>\n      <td>NaN</td>\n      <td>model-g3.bpmn;Process_1vj4efq</td>\n      <td>2419099.595</td>\n      <td>model-g3.bpmn</td>\n      <td>Process_1vj4efq</td>\n      <td>5.0</td>\n    </tr>\n    <tr>\n      <th>70981</th>\n      <td>2</td>\n      <td>2.419170e+06</td>\n      <td>2.419312e+06</td>\n      <td>141.6510</td>\n      <td>model-g3.bpmn;Activity_09ohgt5</td>\n      <td>2419174.617</td>\n      <td>model-g3.bpmn</td>\n      <td>Activity_09ohgt5</td>\n      <td>5.0</td>\n    </tr>\n    <tr>\n      <th>70982</th>\n      <td>2</td>\n      <td>NaN</td>\n      <td>NaN</td>\n      <td>NaN</td>\n      <td>model-g3.bpmn;Activity_09ohgt5</td>\n      <td>2419316.268</td>\n      <td>model-g3.bpmn</td>\n      <td>Activity_09ohgt5</td>\n      <td>5.0</td>\n    </tr>\n    <tr>\n      <th>70983</th>\n      <td>2</td>\n      <td>2.419354e+06</td>\n      <td>2.419495e+06</td>\n      <td>141.6480</td>\n      <td>model-g3.bpmn;title-for-questionID_9</td>\n      <td>2419357.902</td>\n      <td>model-g3.bpmn</td>\n      <td>title-for-questionID_9</td>\n      <td>5.0</td>\n    </tr>\n    <tr>\n      <th>...</th>\n      <td>...</td>\n      <td>...</td>\n      <td>...</td>\n      <td>...</td>\n      <td>...</td>\n      <td>...</td>\n      <td>...</td>\n      <td>...</td>\n      <td>...</td>\n    </tr>\n    <tr>\n      <th>177955</th>\n      <td>3</td>\n      <td>NaN</td>\n      <td>NaN</td>\n      <td>NaN</td>\n      <td>model-g3.bpmn;nan</td>\n      <td>3081225.494</td>\n      <td>model-g3.bpmn</td>\n      <td>NaN</td>\n      <td>5.0</td>\n    </tr>\n    <tr>\n      <th>177956</th>\n      <td>3</td>\n      <td>NaN</td>\n      <td>NaN</td>\n      <td>NaN</td>\n      <td>model-g3.bpmn;nan</td>\n      <td>3081258.822</td>\n      <td>model-g3.bpmn</td>\n      <td>NaN</td>\n      <td>5.0</td>\n    </tr>\n    <tr>\n      <th>177957</th>\n      <td>3</td>\n      <td>3.081271e+06</td>\n      <td>3.081388e+06</td>\n      <td>116.6780</td>\n      <td>model-g3.bpmn;next-button-area-in-questionID_9</td>\n      <td>3081275.489</td>\n      <td>model-g3.bpmn</td>\n      <td>next-button-area-in-questionID_9</td>\n      <td>5.0</td>\n    </tr>\n    <tr>\n      <th>177958</th>\n      <td>3</td>\n      <td>NaN</td>\n      <td>NaN</td>\n      <td>NaN</td>\n      <td>model-g3.bpmn;next-button-area-in-questionID_9</td>\n      <td>3081400.500</td>\n      <td>model-g3.bpmn</td>\n      <td>next-button-area-in-questionID_9</td>\n      <td>5.0</td>\n    </tr>\n    <tr>\n      <th>177959</th>\n      <td>3</td>\n      <td>3.081413e+06</td>\n      <td>3.081755e+06</td>\n      <td>341.6285</td>\n      <td>model-g3.bpmn;next-button-area-in-questionID_9</td>\n      <td>3081417.149</td>\n      <td>model-g3.bpmn</td>\n      <td>next-button-area-in-questionID_9</td>\n      <td>5.0</td>\n    </tr>\n  </tbody>\n</table>\n<p>17077 rows × 9 columns</p>\n</div>"
     },
     "execution_count": 33,
     "metadata": {},
     "output_type": "execute_result"
    }
   ],
   "source": [
    "filtered_df"
   ],
   "metadata": {
    "collapsed": false,
    "ExecuteTime": {
     "end_time": "2024-03-26T11:01:06.777714Z",
     "start_time": "2024-03-26T11:01:06.773524Z"
    }
   },
   "id": "65da8766d74ebfdd"
  },
  {
   "cell_type": "code",
   "execution_count": 34,
   "outputs": [],
   "source": [
    "grouped_df = filtered_df.groupby('participant')"
   ],
   "metadata": {
    "collapsed": false,
    "ExecuteTime": {
     "end_time": "2024-03-26T11:01:08.436991Z",
     "start_time": "2024-03-26T11:01:08.426902Z"
    }
   },
   "id": "f59a049a56bf13b2"
  },
  {
   "cell_type": "code",
   "execution_count": 35,
   "outputs": [
    {
     "data": {
      "text/plain": "3"
     },
     "execution_count": 35,
     "metadata": {},
     "output_type": "execute_result"
    }
   ],
   "source": [
    "grouped_df.ngroups"
   ],
   "metadata": {
    "collapsed": false,
    "ExecuteTime": {
     "end_time": "2024-03-26T11:01:09.065866Z",
     "start_time": "2024-03-26T11:01:09.056973Z"
    }
   },
   "id": "edccbfcf1f3aa34a"
  },
  {
   "cell_type": "code",
   "execution_count": 36,
   "outputs": [
    {
     "name": "stdout",
     "output_type": "stream",
     "text": [
      "Participant: 1\n",
      "Participant: 2\n",
      "Participant: 3\n"
     ]
    }
   ],
   "source": [
    "for participant, group_data in grouped_df:\n",
    "    print(f\"Participant: {participant}\")"
   ],
   "metadata": {
    "collapsed": false,
    "ExecuteTime": {
     "end_time": "2024-03-26T11:01:10.172500Z",
     "start_time": "2024-03-26T11:01:10.161668Z"
    }
   },
   "id": "40f1c990ffd2c58d"
  },
  {
   "cell_type": "code",
   "execution_count": 61,
   "outputs": [],
   "source": [
    "filtered_df.to_csv('/Users/jonaslanzlinger/Documents/HSG/Software City Project/datasets/out1.csv', index=False)"
   ],
   "metadata": {
    "collapsed": false,
    "ExecuteTime": {
     "end_time": "2024-03-25T11:03:58.425749Z",
     "start_time": "2024-03-25T11:03:58.375942Z"
    }
   },
   "id": "e7d66ace8990b0c0"
  }
 ],
 "metadata": {
  "kernelspec": {
   "display_name": "Python 3",
   "language": "python",
   "name": "python3"
  },
  "language_info": {
   "codemirror_mode": {
    "name": "ipython",
    "version": 2
   },
   "file_extension": ".py",
   "mimetype": "text/x-python",
   "name": "python",
   "nbconvert_exporter": "python",
   "pygments_lexer": "ipython2",
   "version": "2.7.6"
  }
 },
 "nbformat": 4,
 "nbformat_minor": 5
}
