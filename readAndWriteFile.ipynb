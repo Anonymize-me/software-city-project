{
 "cells": [
  {
   "cell_type": "code",
   "execution_count": null,
   "id": "initial_id",
   "metadata": {
    "ExecuteTime": {
     "end_time": "2024-04-02T08:25:11.291688Z",
     "start_time": "2024-04-02T08:25:09.769772Z"
    },
    "collapsed": true
   },
   "outputs": [
    {
     "ename": "",
     "evalue": "",
     "output_type": "error",
     "traceback": [
      "\u001b[1;31mRunning cells with '/opt/homebrew/bin/python3' requires the ipykernel package.\n",
      "\u001b[1;31mRun the following command to install 'ipykernel' into the Python environment. \n",
      "\u001b[1;31mCommand: '/opt/homebrew/bin/python3 -m pip install ipykernel -U --user --force-reinstall'"
     ]
    }
   ],
   "source": [
    "import pandas as pd"
   ]
  },
  {
   "cell_type": "code",
   "execution_count": 2,
   "id": "55be3e491352c744",
   "metadata": {
    "ExecuteTime": {
     "end_time": "2024-04-02T08:25:11.970515Z",
     "start_time": "2024-04-02T08:25:11.955197Z"
    },
    "collapsed": false
   },
   "outputs": [],
   "source": [
    "file = '/Users/jonaslanzlinger/Documents/HSG/Software City Project/datasets/eventsDataWithAois.csv'"
   ]
  },
  {
   "cell_type": "code",
   "execution_count": 3,
   "id": "15820ffee8d0228d",
   "metadata": {
    "ExecuteTime": {
     "end_time": "2024-04-02T08:25:14.373561Z",
     "start_time": "2024-04-02T08:25:12.888927Z"
    },
    "collapsed": false
   },
   "outputs": [],
   "source": [
    "df = pd.read_csv(file)"
   ]
  },
  {
   "cell_type": "code",
   "execution_count": 4,
   "id": "47ec5f3c68363b3e",
   "metadata": {
    "ExecuteTime": {
     "end_time": "2024-04-02T08:25:14.386934Z",
     "start_time": "2024-04-02T08:25:14.374831Z"
    },
    "collapsed": false
   },
   "outputs": [
    {
     "data": {
      "text/plain": [
       "(881694, 22)"
      ]
     },
     "execution_count": 4,
     "metadata": {},
     "output_type": "execute_result"
    }
   ],
   "source": [
    "df.shape"
   ]
  },
  {
   "cell_type": "code",
   "execution_count": 5,
   "id": "440879618871c1a7",
   "metadata": {
    "ExecuteTime": {
     "end_time": "2024-04-02T08:25:16.491110Z",
     "start_time": "2024-04-02T08:25:16.472566Z"
    },
    "collapsed": false
   },
   "outputs": [
    {
     "data": {
      "text/html": [
       "<div>\n",
       "<style scoped>\n",
       "    .dataframe tbody tr th:only-of-type {\n",
       "        vertical-align: middle;\n",
       "    }\n",
       "\n",
       "    .dataframe tbody tr th {\n",
       "        vertical-align: top;\n",
       "    }\n",
       "\n",
       "    .dataframe thead th {\n",
       "        text-align: right;\n",
       "    }\n",
       "</style>\n",
       "<table border=\"1\" class=\"dataframe\">\n",
       "  <thead>\n",
       "    <tr style=\"text-align: right;\">\n",
       "      <th></th>\n",
       "      <th>participant</th>\n",
       "      <th>FixID</th>\n",
       "      <th>Fixation X</th>\n",
       "      <th>Fixation Y</th>\n",
       "      <th>Fixation Start</th>\n",
       "      <th>Fixation End</th>\n",
       "      <th>Fixation Duration</th>\n",
       "      <th>Fixation Dispersion</th>\n",
       "      <th>SacID</th>\n",
       "      <th>Saccade Start</th>\n",
       "      <th>...</th>\n",
       "      <th>Saccade Amplitude</th>\n",
       "      <th>Saccade Peak Velocity</th>\n",
       "      <th>Saccade Peak Acceleration</th>\n",
       "      <th>Saccade Peak Deceleration</th>\n",
       "      <th>Saccade Direction</th>\n",
       "      <th>currentQuestion</th>\n",
       "      <th>tabName_element</th>\n",
       "      <th>Timestamp</th>\n",
       "      <th>tabName</th>\n",
       "      <th>element</th>\n",
       "    </tr>\n",
       "  </thead>\n",
       "  <tbody>\n",
       "    <tr>\n",
       "      <th>0</th>\n",
       "      <td>KP1-no</td>\n",
       "      <td>NaN</td>\n",
       "      <td>NaN</td>\n",
       "      <td>NaN</td>\n",
       "      <td>NaN</td>\n",
       "      <td>NaN</td>\n",
       "      <td>NaN</td>\n",
       "      <td>NaN</td>\n",
       "      <td>1.0</td>\n",
       "      <td>5.307491e+06</td>\n",
       "      <td>...</td>\n",
       "      <td>4.0922</td>\n",
       "      <td>168.9663</td>\n",
       "      <td>10177.6287</td>\n",
       "      <td>-10967.1418</td>\n",
       "      <td>93.4893</td>\n",
       "      <td>1.0</td>\n",
       "      <td>F1_Offload_Container.bpmn;nan</td>\n",
       "      <td>5307494.855</td>\n",
       "      <td>F1_Offload_Container.bpmn</td>\n",
       "      <td>NaN</td>\n",
       "    </tr>\n",
       "    <tr>\n",
       "      <th>1</th>\n",
       "      <td>KP1-no</td>\n",
       "      <td>NaN</td>\n",
       "      <td>NaN</td>\n",
       "      <td>NaN</td>\n",
       "      <td>NaN</td>\n",
       "      <td>NaN</td>\n",
       "      <td>NaN</td>\n",
       "      <td>NaN</td>\n",
       "      <td>2.0</td>\n",
       "      <td>5.307616e+06</td>\n",
       "      <td>...</td>\n",
       "      <td>0.7608</td>\n",
       "      <td>60.1521</td>\n",
       "      <td>4027.4507</td>\n",
       "      <td>-318.0821</td>\n",
       "      <td>122.1063</td>\n",
       "      <td>1.0</td>\n",
       "      <td>F1_Offload_Container.bpmn;title-for-questionID_1</td>\n",
       "      <td>5307619.849</td>\n",
       "      <td>F1_Offload_Container.bpmn</td>\n",
       "      <td>title-for-questionID_1</td>\n",
       "    </tr>\n",
       "    <tr>\n",
       "      <th>2</th>\n",
       "      <td>KP1-no</td>\n",
       "      <td>NaN</td>\n",
       "      <td>NaN</td>\n",
       "      <td>NaN</td>\n",
       "      <td>NaN</td>\n",
       "      <td>NaN</td>\n",
       "      <td>NaN</td>\n",
       "      <td>NaN</td>\n",
       "      <td>3.0</td>\n",
       "      <td>5.307674e+06</td>\n",
       "      <td>...</td>\n",
       "      <td>7.0458</td>\n",
       "      <td>228.8872</td>\n",
       "      <td>13968.0601</td>\n",
       "      <td>-12587.6150</td>\n",
       "      <td>93.0802</td>\n",
       "      <td>1.0</td>\n",
       "      <td>F1_Offload_Container.bpmn;Process_1jt1th5</td>\n",
       "      <td>5307686.524</td>\n",
       "      <td>F1_Offload_Container.bpmn</td>\n",
       "      <td>Process_1jt1th5</td>\n",
       "    </tr>\n",
       "    <tr>\n",
       "      <th>3</th>\n",
       "      <td>KP1-no</td>\n",
       "      <td>NaN</td>\n",
       "      <td>NaN</td>\n",
       "      <td>NaN</td>\n",
       "      <td>NaN</td>\n",
       "      <td>NaN</td>\n",
       "      <td>NaN</td>\n",
       "      <td>NaN</td>\n",
       "      <td>4.0</td>\n",
       "      <td>5.307741e+06</td>\n",
       "      <td>...</td>\n",
       "      <td>0.7417</td>\n",
       "      <td>56.6251</td>\n",
       "      <td>4725.8834</td>\n",
       "      <td>-2591.7757</td>\n",
       "      <td>23.9625</td>\n",
       "      <td>1.0</td>\n",
       "      <td>F1_Offload_Container.bpmn;Process_1jt1th5</td>\n",
       "      <td>5307744.836</td>\n",
       "      <td>F1_Offload_Container.bpmn</td>\n",
       "      <td>Process_1jt1th5</td>\n",
       "    </tr>\n",
       "    <tr>\n",
       "      <th>4</th>\n",
       "      <td>KP1-no</td>\n",
       "      <td>1.0</td>\n",
       "      <td>988.9248</td>\n",
       "      <td>375.77</td>\n",
       "      <td>5.307757e+06</td>\n",
       "      <td>5.307874e+06</td>\n",
       "      <td>116.695</td>\n",
       "      <td>0.2819</td>\n",
       "      <td>NaN</td>\n",
       "      <td>NaN</td>\n",
       "      <td>...</td>\n",
       "      <td>NaN</td>\n",
       "      <td>NaN</td>\n",
       "      <td>NaN</td>\n",
       "      <td>NaN</td>\n",
       "      <td>NaN</td>\n",
       "      <td>1.0</td>\n",
       "      <td>F1_Offload_Container.bpmn;Process_1jt1th5</td>\n",
       "      <td>5307761.489</td>\n",
       "      <td>F1_Offload_Container.bpmn</td>\n",
       "      <td>Process_1jt1th5</td>\n",
       "    </tr>\n",
       "  </tbody>\n",
       "</table>\n",
       "<p>5 rows × 22 columns</p>\n",
       "</div>"
      ],
      "text/plain": [
       "  participant  FixID  Fixation X  Fixation Y  Fixation Start  Fixation End  \\\n",
       "0      KP1-no    NaN         NaN         NaN             NaN           NaN   \n",
       "1      KP1-no    NaN         NaN         NaN             NaN           NaN   \n",
       "2      KP1-no    NaN         NaN         NaN             NaN           NaN   \n",
       "3      KP1-no    NaN         NaN         NaN             NaN           NaN   \n",
       "4      KP1-no    1.0    988.9248      375.77    5.307757e+06  5.307874e+06   \n",
       "\n",
       "   Fixation Duration  Fixation Dispersion  SacID  Saccade Start  ...  \\\n",
       "0                NaN                  NaN    1.0   5.307491e+06  ...   \n",
       "1                NaN                  NaN    2.0   5.307616e+06  ...   \n",
       "2                NaN                  NaN    3.0   5.307674e+06  ...   \n",
       "3                NaN                  NaN    4.0   5.307741e+06  ...   \n",
       "4            116.695               0.2819    NaN            NaN  ...   \n",
       "\n",
       "   Saccade Amplitude  Saccade Peak Velocity  Saccade Peak Acceleration  \\\n",
       "0             4.0922               168.9663                 10177.6287   \n",
       "1             0.7608                60.1521                  4027.4507   \n",
       "2             7.0458               228.8872                 13968.0601   \n",
       "3             0.7417                56.6251                  4725.8834   \n",
       "4                NaN                    NaN                        NaN   \n",
       "\n",
       "   Saccade Peak Deceleration  Saccade Direction  currentQuestion  \\\n",
       "0                -10967.1418            93.4893              1.0   \n",
       "1                  -318.0821           122.1063              1.0   \n",
       "2                -12587.6150            93.0802              1.0   \n",
       "3                 -2591.7757            23.9625              1.0   \n",
       "4                        NaN                NaN              1.0   \n",
       "\n",
       "                                    tabName_element    Timestamp  \\\n",
       "0                     F1_Offload_Container.bpmn;nan  5307494.855   \n",
       "1  F1_Offload_Container.bpmn;title-for-questionID_1  5307619.849   \n",
       "2         F1_Offload_Container.bpmn;Process_1jt1th5  5307686.524   \n",
       "3         F1_Offload_Container.bpmn;Process_1jt1th5  5307744.836   \n",
       "4         F1_Offload_Container.bpmn;Process_1jt1th5  5307761.489   \n",
       "\n",
       "                     tabName                 element  \n",
       "0  F1_Offload_Container.bpmn                     NaN  \n",
       "1  F1_Offload_Container.bpmn  title-for-questionID_1  \n",
       "2  F1_Offload_Container.bpmn         Process_1jt1th5  \n",
       "3  F1_Offload_Container.bpmn         Process_1jt1th5  \n",
       "4  F1_Offload_Container.bpmn         Process_1jt1th5  \n",
       "\n",
       "[5 rows x 22 columns]"
      ]
     },
     "execution_count": 5,
     "metadata": {},
     "output_type": "execute_result"
    }
   ],
   "source": [
    "df.head(5)"
   ]
  },
  {
   "cell_type": "code",
   "execution_count": 31,
   "id": "8e9a79e3fb6931e8",
   "metadata": {
    "ExecuteTime": {
     "end_time": "2024-03-26T11:00:56.693005Z",
     "start_time": "2024-03-26T11:00:56.672302Z"
    },
    "collapsed": false
   },
   "outputs": [],
   "source": [
    "selected_columns = ['participant', 'Fixation Start', 'Fixation End', 'Fixation Duration', 'tabName_element', 'Timestamp', 'tabName', 'element', 'TaskId']\n",
    "cleaned_df = df[selected_columns].copy()"
   ]
  },
  {
   "cell_type": "code",
   "execution_count": 6,
   "id": "1ae5073671949d82",
   "metadata": {
    "ExecuteTime": {
     "end_time": "2024-04-02T08:33:44.695023Z",
     "start_time": "2024-04-02T08:33:44.608737Z"
    },
    "collapsed": false
   },
   "outputs": [],
   "source": [
    "selected_columns = ['participant', 'Fixation Start', 'Fixation End', 'Fixation Duration', 'tabName_element', 'Timestamp', 'tabName', 'element', 'currentQuestion']\n",
    "cleaned_df = df[selected_columns].copy()"
   ]
  },
  {
   "cell_type": "code",
   "execution_count": 13,
   "id": "2ea1585a128afc6c",
   "metadata": {
    "ExecuteTime": {
     "end_time": "2024-04-02T08:36:18.903482Z",
     "start_time": "2024-04-02T08:36:18.888895Z"
    },
    "collapsed": false
   },
   "outputs": [],
   "source": [
    "cleaned_df.rename(columns={'currentQuestion': 'taskId'}, inplace=True)"
   ]
  },
  {
   "cell_type": "code",
   "execution_count": 32,
   "id": "cb844ef7bf947dd6",
   "metadata": {
    "ExecuteTime": {
     "end_time": "2024-03-26T11:01:02.081798Z",
     "start_time": "2024-03-26T11:01:02.070211Z"
    },
    "collapsed": false
   },
   "outputs": [],
   "source": [
    "filtered_df = cleaned_df[cleaned_df['participant'].isin([1, 2, 3])]"
   ]
  },
  {
   "cell_type": "code",
   "execution_count": 14,
   "id": "12f80ca3db1c48e8",
   "metadata": {
    "ExecuteTime": {
     "end_time": "2024-04-02T08:36:20.980062Z",
     "start_time": "2024-04-02T08:36:20.970693Z"
    },
    "collapsed": false
   },
   "outputs": [],
   "source": [
    "filtered_df = cleaned_df[cleaned_df['participant'].isin(['KP1-no'])]"
   ]
  },
  {
   "cell_type": "code",
   "execution_count": 15,
   "id": "65da8766d74ebfdd",
   "metadata": {
    "ExecuteTime": {
     "end_time": "2024-04-02T08:36:21.618785Z",
     "start_time": "2024-04-02T08:36:21.614784Z"
    },
    "collapsed": false
   },
   "outputs": [
    {
     "data": {
      "text/html": [
       "<div>\n",
       "<style scoped>\n",
       "    .dataframe tbody tr th:only-of-type {\n",
       "        vertical-align: middle;\n",
       "    }\n",
       "\n",
       "    .dataframe tbody tr th {\n",
       "        vertical-align: top;\n",
       "    }\n",
       "\n",
       "    .dataframe thead th {\n",
       "        text-align: right;\n",
       "    }\n",
       "</style>\n",
       "<table border=\"1\" class=\"dataframe\">\n",
       "  <thead>\n",
       "    <tr style=\"text-align: right;\">\n",
       "      <th></th>\n",
       "      <th>participant</th>\n",
       "      <th>Fixation Start</th>\n",
       "      <th>Fixation End</th>\n",
       "      <th>Fixation Duration</th>\n",
       "      <th>tabName_element</th>\n",
       "      <th>Timestamp</th>\n",
       "      <th>tabName</th>\n",
       "      <th>element</th>\n",
       "      <th>taskId</th>\n",
       "    </tr>\n",
       "  </thead>\n",
       "  <tbody>\n",
       "    <tr>\n",
       "      <th>0</th>\n",
       "      <td>KP1-no</td>\n",
       "      <td>NaN</td>\n",
       "      <td>NaN</td>\n",
       "      <td>NaN</td>\n",
       "      <td>F1_Offload_Container.bpmn;nan</td>\n",
       "      <td>5307494.855</td>\n",
       "      <td>F1_Offload_Container.bpmn</td>\n",
       "      <td>NaN</td>\n",
       "      <td>1.0</td>\n",
       "    </tr>\n",
       "    <tr>\n",
       "      <th>1</th>\n",
       "      <td>KP1-no</td>\n",
       "      <td>NaN</td>\n",
       "      <td>NaN</td>\n",
       "      <td>NaN</td>\n",
       "      <td>F1_Offload_Container.bpmn;title-for-questionID_1</td>\n",
       "      <td>5307619.849</td>\n",
       "      <td>F1_Offload_Container.bpmn</td>\n",
       "      <td>title-for-questionID_1</td>\n",
       "      <td>1.0</td>\n",
       "    </tr>\n",
       "    <tr>\n",
       "      <th>2</th>\n",
       "      <td>KP1-no</td>\n",
       "      <td>NaN</td>\n",
       "      <td>NaN</td>\n",
       "      <td>NaN</td>\n",
       "      <td>F1_Offload_Container.bpmn;Process_1jt1th5</td>\n",
       "      <td>5307686.524</td>\n",
       "      <td>F1_Offload_Container.bpmn</td>\n",
       "      <td>Process_1jt1th5</td>\n",
       "      <td>1.0</td>\n",
       "    </tr>\n",
       "    <tr>\n",
       "      <th>3</th>\n",
       "      <td>KP1-no</td>\n",
       "      <td>NaN</td>\n",
       "      <td>NaN</td>\n",
       "      <td>NaN</td>\n",
       "      <td>F1_Offload_Container.bpmn;Process_1jt1th5</td>\n",
       "      <td>5307744.836</td>\n",
       "      <td>F1_Offload_Container.bpmn</td>\n",
       "      <td>Process_1jt1th5</td>\n",
       "      <td>1.0</td>\n",
       "    </tr>\n",
       "    <tr>\n",
       "      <th>4</th>\n",
       "      <td>KP1-no</td>\n",
       "      <td>5.307757e+06</td>\n",
       "      <td>5.307874e+06</td>\n",
       "      <td>116.6950</td>\n",
       "      <td>F1_Offload_Container.bpmn;Process_1jt1th5</td>\n",
       "      <td>5307761.489</td>\n",
       "      <td>F1_Offload_Container.bpmn</td>\n",
       "      <td>Process_1jt1th5</td>\n",
       "      <td>1.0</td>\n",
       "    </tr>\n",
       "    <tr>\n",
       "      <th>...</th>\n",
       "      <td>...</td>\n",
       "      <td>...</td>\n",
       "      <td>...</td>\n",
       "      <td>...</td>\n",
       "      <td>...</td>\n",
       "      <td>...</td>\n",
       "      <td>...</td>\n",
       "      <td>...</td>\n",
       "      <td>...</td>\n",
       "    </tr>\n",
       "    <tr>\n",
       "      <th>24194</th>\n",
       "      <td>KP1-no</td>\n",
       "      <td>7.339381e+06</td>\n",
       "      <td>7.339564e+06</td>\n",
       "      <td>183.3165</td>\n",
       "      <td>F1_Offload_Container.bpmn;nan</td>\n",
       "      <td>7339384.943</td>\n",
       "      <td>F1_Offload_Container.bpmn</td>\n",
       "      <td>NaN</td>\n",
       "      <td>39.0</td>\n",
       "    </tr>\n",
       "    <tr>\n",
       "      <th>24195</th>\n",
       "      <td>KP1-no</td>\n",
       "      <td>NaN</td>\n",
       "      <td>NaN</td>\n",
       "      <td>NaN</td>\n",
       "      <td>F1_Offload_Container.bpmn;nan</td>\n",
       "      <td>7339568.267</td>\n",
       "      <td>F1_Offload_Container.bpmn</td>\n",
       "      <td>NaN</td>\n",
       "      <td>39.0</td>\n",
       "    </tr>\n",
       "    <tr>\n",
       "      <th>24196</th>\n",
       "      <td>KP1-no</td>\n",
       "      <td>7.339581e+06</td>\n",
       "      <td>7.339739e+06</td>\n",
       "      <td>158.3090</td>\n",
       "      <td>F1_Offload_Container.bpmn;next-button-area-in-...</td>\n",
       "      <td>7339584.920</td>\n",
       "      <td>F1_Offload_Container.bpmn</td>\n",
       "      <td>next-button-area-in-questionID_39</td>\n",
       "      <td>39.0</td>\n",
       "    </tr>\n",
       "    <tr>\n",
       "      <th>24197</th>\n",
       "      <td>KP1-no</td>\n",
       "      <td>7.339581e+06</td>\n",
       "      <td>7.339739e+06</td>\n",
       "      <td>158.3090</td>\n",
       "      <td>F1_Offload_Container.bpmn;questions-over</td>\n",
       "      <td>7339651.581</td>\n",
       "      <td>F1_Offload_Container.bpmn</td>\n",
       "      <td>questions-over</td>\n",
       "      <td>NaN</td>\n",
       "    </tr>\n",
       "    <tr>\n",
       "      <th>24198</th>\n",
       "      <td>KP1-no</td>\n",
       "      <td>NaN</td>\n",
       "      <td>NaN</td>\n",
       "      <td>NaN</td>\n",
       "      <td>F1_Offload_Container.bpmn;questions-over</td>\n",
       "      <td>7339743.234</td>\n",
       "      <td>F1_Offload_Container.bpmn</td>\n",
       "      <td>questions-over</td>\n",
       "      <td>NaN</td>\n",
       "    </tr>\n",
       "  </tbody>\n",
       "</table>\n",
       "<p>24199 rows × 9 columns</p>\n",
       "</div>"
      ],
      "text/plain": [
       "      participant  Fixation Start  Fixation End  Fixation Duration  \\\n",
       "0          KP1-no             NaN           NaN                NaN   \n",
       "1          KP1-no             NaN           NaN                NaN   \n",
       "2          KP1-no             NaN           NaN                NaN   \n",
       "3          KP1-no             NaN           NaN                NaN   \n",
       "4          KP1-no    5.307757e+06  5.307874e+06           116.6950   \n",
       "...           ...             ...           ...                ...   \n",
       "24194      KP1-no    7.339381e+06  7.339564e+06           183.3165   \n",
       "24195      KP1-no             NaN           NaN                NaN   \n",
       "24196      KP1-no    7.339581e+06  7.339739e+06           158.3090   \n",
       "24197      KP1-no    7.339581e+06  7.339739e+06           158.3090   \n",
       "24198      KP1-no             NaN           NaN                NaN   \n",
       "\n",
       "                                         tabName_element    Timestamp  \\\n",
       "0                          F1_Offload_Container.bpmn;nan  5307494.855   \n",
       "1       F1_Offload_Container.bpmn;title-for-questionID_1  5307619.849   \n",
       "2              F1_Offload_Container.bpmn;Process_1jt1th5  5307686.524   \n",
       "3              F1_Offload_Container.bpmn;Process_1jt1th5  5307744.836   \n",
       "4              F1_Offload_Container.bpmn;Process_1jt1th5  5307761.489   \n",
       "...                                                  ...          ...   \n",
       "24194                      F1_Offload_Container.bpmn;nan  7339384.943   \n",
       "24195                      F1_Offload_Container.bpmn;nan  7339568.267   \n",
       "24196  F1_Offload_Container.bpmn;next-button-area-in-...  7339584.920   \n",
       "24197           F1_Offload_Container.bpmn;questions-over  7339651.581   \n",
       "24198           F1_Offload_Container.bpmn;questions-over  7339743.234   \n",
       "\n",
       "                         tabName                            element  taskId  \n",
       "0      F1_Offload_Container.bpmn                                NaN     1.0  \n",
       "1      F1_Offload_Container.bpmn             title-for-questionID_1     1.0  \n",
       "2      F1_Offload_Container.bpmn                    Process_1jt1th5     1.0  \n",
       "3      F1_Offload_Container.bpmn                    Process_1jt1th5     1.0  \n",
       "4      F1_Offload_Container.bpmn                    Process_1jt1th5     1.0  \n",
       "...                          ...                                ...     ...  \n",
       "24194  F1_Offload_Container.bpmn                                NaN    39.0  \n",
       "24195  F1_Offload_Container.bpmn                                NaN    39.0  \n",
       "24196  F1_Offload_Container.bpmn  next-button-area-in-questionID_39    39.0  \n",
       "24197  F1_Offload_Container.bpmn                     questions-over     NaN  \n",
       "24198  F1_Offload_Container.bpmn                     questions-over     NaN  \n",
       "\n",
       "[24199 rows x 9 columns]"
      ]
     },
     "execution_count": 15,
     "metadata": {},
     "output_type": "execute_result"
    }
   ],
   "source": [
    "filtered_df"
   ]
  },
  {
   "cell_type": "code",
   "execution_count": 16,
   "id": "f59a049a56bf13b2",
   "metadata": {
    "ExecuteTime": {
     "end_time": "2024-04-02T08:36:25.635999Z",
     "start_time": "2024-04-02T08:36:25.625455Z"
    },
    "collapsed": false
   },
   "outputs": [],
   "source": [
    "grouped_df = filtered_df.groupby('participant')"
   ]
  },
  {
   "cell_type": "code",
   "execution_count": 17,
   "id": "edccbfcf1f3aa34a",
   "metadata": {
    "ExecuteTime": {
     "end_time": "2024-04-02T08:36:25.898528Z",
     "start_time": "2024-04-02T08:36:25.888756Z"
    },
    "collapsed": false
   },
   "outputs": [
    {
     "data": {
      "text/plain": [
       "1"
      ]
     },
     "execution_count": 17,
     "metadata": {},
     "output_type": "execute_result"
    }
   ],
   "source": [
    "grouped_df.ngroups"
   ]
  },
  {
   "cell_type": "code",
   "execution_count": 18,
   "id": "40f1c990ffd2c58d",
   "metadata": {
    "ExecuteTime": {
     "end_time": "2024-04-02T08:36:26.520295Z",
     "start_time": "2024-04-02T08:36:26.510665Z"
    },
    "collapsed": false
   },
   "outputs": [
    {
     "name": "stdout",
     "output_type": "stream",
     "text": [
      "Participant: KP1-no\n"
     ]
    }
   ],
   "source": [
    "for participant, group_data in grouped_df:\n",
    "    print(f\"Participant: {participant}\")"
   ]
  },
  {
   "cell_type": "code",
   "execution_count": 19,
   "id": "e7d66ace8990b0c0",
   "metadata": {
    "ExecuteTime": {
     "end_time": "2024-04-02T08:36:36.174554Z",
     "start_time": "2024-04-02T08:36:36.080912Z"
    },
    "collapsed": false
   },
   "outputs": [],
   "source": [
    "filtered_df.to_csv('/Users/jonaslanzlinger/Documents/HSG/Software City Project/datasets/out2_amine_data.csv', index=False)"
   ]
  },
  {
   "cell_type": "code",
   "execution_count": null,
   "id": "68562d462595a5cf",
   "metadata": {
    "collapsed": false
   },
   "outputs": [],
   "source": []
  }
 ],
 "metadata": {
  "kernelspec": {
   "display_name": "Python 3",
   "language": "python",
   "name": "python3"
  },
  "language_info": {
   "codemirror_mode": {
    "name": "ipython",
    "version": 2
   },
   "file_extension": ".py",
   "mimetype": "text/x-python",
   "name": "python",
   "nbconvert_exporter": "python",
   "pygments_lexer": "ipython2",
   "version": "3.12.2"
  }
 },
 "nbformat": 4,
 "nbformat_minor": 5
}
